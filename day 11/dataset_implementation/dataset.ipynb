{
 "cells": [
  {
   "cell_type": "code",
   "execution_count": 2,
   "metadata": {},
   "outputs": [],
   "source": [
    "import numpy as np\n",
    "import tensorflow as tf\n",
    "import pandas as pd\n",
    "import matplotlib.pyplot as plt\n",
    "import sklearn.linear_model as linear_model\n",
    "from tensorflow import keras\n",
    "from sklearn.model_selection import train_test_split\n",
    "from sklearn.datasets import make_classification\n",
    "from sklearn.preprocessing import StandardScaler"
   ]
  },
  {
   "cell_type": "code",
   "execution_count": 3,
   "metadata": {},
   "outputs": [
    {
     "name": "stdout",
     "output_type": "stream",
     "text": [
      "        Age  Gender  Income  Credit Score  Credit History Length  \\\n",
      "0        31    Male   36000           604                    487   \n",
      "1        25    Male   50000           447                    386   \n",
      "2        62   Other  178000           850                    503   \n",
      "3        69  Female   46000           668                    349   \n",
      "4        52    Male  132000           601                    553   \n",
      "...     ...     ...     ...           ...                    ...   \n",
      "279851   69    Male   61000           495                    565   \n",
      "279852   45  Female  124000           850                    476   \n",
      "279853   33  Female   71000           582                    560   \n",
      "279854   67    Male  191000           411                    481   \n",
      "279855   33   Other   18000           474                    374   \n",
      "\n",
      "        Number of Existing Loans  Loan Amount  Loan Tenure Existing Customer  \\\n",
      "0                              5       109373          221                No   \n",
      "1                              2       150000           89                No   \n",
      "2                             10        69099          110               Yes   \n",
      "3                              6       150000          148               Yes   \n",
      "4                              5       150000          157                No   \n",
      "...                          ...          ...          ...               ...   \n",
      "279851                         3       150000           14                No   \n",
      "279852                        10        80341           86               Yes   \n",
      "279853                         5        39851          101                No   \n",
      "279854                         2       150000          111                No   \n",
      "279855                         3        51522           75                No   \n",
      "\n",
      "                State       City  LTV Ratio Employment Profile  Profile Score  \\\n",
      "0           Karnataka     Mysuru  90.943430           Salaried             77   \n",
      "1           Karnataka  Bengaluru  91.135253           Salaried             43   \n",
      "2       Uttar Pradesh     Kanpur  40.000000           Salaried             90   \n",
      "3           Karnataka  Bengaluru  87.393365      Self-Employed             86   \n",
      "4           Karnataka     Mysuru  66.158757           Salaried             90   \n",
      "...               ...        ...        ...                ...            ...   \n",
      "279851     Tamil Nadu    Chennai  90.300189           Salaried             71   \n",
      "279852      Karnataka  Bengaluru  78.960607           Salaried             91   \n",
      "279853      Karnataka     Mysuru  95.000000         Unemployed             57   \n",
      "279854          Delhi  New Delhi  56.109002           Salaried             69   \n",
      "279855  Uttar Pradesh     Kanpur  95.000000           Salaried             59   \n",
      "\n",
      "               Occupation  \n",
      "0                  Doctor  \n",
      "1       Software Engineer  \n",
      "2                  Banker  \n",
      "3              Contractor  \n",
      "4                 Teacher  \n",
      "...                   ...  \n",
      "279851  Software Engineer  \n",
      "279852      Civil Servant  \n",
      "279853                NaN  \n",
      "279854  Software Engineer  \n",
      "279855  Software Engineer  \n",
      "\n",
      "[279856 rows x 15 columns]\n"
     ]
    }
   ],
   "source": [
    "data = pd.read_csv(r'credit_data.csv')\n",
    "df1 = pd.DataFrame(data)\n",
    "print(df1)"
   ]
  },
  {
   "cell_type": "code",
   "execution_count": 4,
   "metadata": {},
   "outputs": [
    {
     "name": "stdout",
     "output_type": "stream",
     "text": [
      "        Age  Income  Credit Score  Credit History Length  \\\n",
      "0        31   36000           604                    487   \n",
      "1        25   50000           447                    386   \n",
      "2        62  178000           850                    503   \n",
      "3        69   46000           668                    349   \n",
      "4        52  132000           601                    553   \n",
      "...     ...     ...           ...                    ...   \n",
      "279851   69   61000           495                    565   \n",
      "279852   45  124000           850                    476   \n",
      "279853   33   71000           582                    560   \n",
      "279854   67  191000           411                    481   \n",
      "279855   33   18000           474                    374   \n",
      "\n",
      "        Number of Existing Loans  Loan Amount  Loan Tenure  LTV Ratio  \\\n",
      "0                              5       109373          221  90.943430   \n",
      "1                              2       150000           89  91.135253   \n",
      "2                             10        69099          110  40.000000   \n",
      "3                              6       150000          148  87.393365   \n",
      "4                              5       150000          157  66.158757   \n",
      "...                          ...          ...          ...        ...   \n",
      "279851                         3       150000           14  90.300189   \n",
      "279852                        10        80341           86  78.960607   \n",
      "279853                         5        39851          101  95.000000   \n",
      "279854                         2       150000          111  56.109002   \n",
      "279855                         3        51522           75  95.000000   \n",
      "\n",
      "        Profile Score  \n",
      "0                  77  \n",
      "1                  43  \n",
      "2                  90  \n",
      "3                  86  \n",
      "4                  90  \n",
      "...               ...  \n",
      "279851             71  \n",
      "279852             91  \n",
      "279853             57  \n",
      "279854             69  \n",
      "279855             59  \n",
      "\n",
      "[279856 rows x 9 columns]\n",
      "0         False\n",
      "1         False\n",
      "2         False\n",
      "3         False\n",
      "4         False\n",
      "          ...  \n",
      "279851     True\n",
      "279852     True\n",
      "279853     True\n",
      "279854     True\n",
      "279855     True\n",
      "Length: 279856, dtype: bool\n",
      "       Age  Income  Credit Score  Credit History Length  \\\n",
      "0       31   36000           604                    487   \n",
      "1       25   50000           447                    386   \n",
      "2       62  178000           850                    503   \n",
      "3       69   46000           668                    349   \n",
      "4       52  132000           601                    553   \n",
      "...    ...     ...           ...                    ...   \n",
      "99960   36   26000           341                    461   \n",
      "99961   25   15000           769                    536   \n",
      "99962   67   96000           635                    230   \n",
      "99963   18   44000           583                    236   \n",
      "99964   18   34000           691                    484   \n",
      "\n",
      "       Number of Existing Loans  Loan Amount  Loan Tenure  LTV Ratio  \\\n",
      "0                             5       109373          221  90.943430   \n",
      "1                             2       150000           89  91.135253   \n",
      "2                            10        69099          110  40.000000   \n",
      "3                             6       150000          148  87.393365   \n",
      "4                             5       150000          157  66.158757   \n",
      "...                         ...          ...          ...        ...   \n",
      "99960                         0       132128           38  66.429355   \n",
      "99961                         8        15977          320  40.000000   \n",
      "99962                         6        72239          212  53.819382   \n",
      "99963                         5       150000           41  77.228611   \n",
      "99964                         7       119315          158  66.329921   \n",
      "\n",
      "       Profile Score  \n",
      "0                 77  \n",
      "1                 43  \n",
      "2                 90  \n",
      "3                 86  \n",
      "4                 90  \n",
      "...              ...  \n",
      "99960             67  \n",
      "99961             96  \n",
      "99962            100  \n",
      "99963             87  \n",
      "99964            100  \n",
      "\n",
      "[99965 rows x 9 columns]\n"
     ]
    }
   ],
   "source": [
    "df2 = df1.drop([\"Gender\",\"Existing Customer\",\"State\",\"City\",\"Employment Profile\",\"Occupation\"],axis = 1)\n",
    "df2.isnull()\n",
    "df3 = df2.dropna()\n",
    "print(df3)\n",
    "print(df3.duplicated())\n",
    "df3 = df3.drop_duplicates()\n",
    "df3.reset_index(inplace=True,drop=True)\n",
    "print(df3)"
   ]
  },
  {
   "cell_type": "code",
   "execution_count": 6,
   "metadata": {},
   "outputs": [
    {
     "name": "stdout",
     "output_type": "stream",
     "text": [
      "[[3.10000000e+01 3.60000000e+04 6.04000000e+02 ... 1.09373000e+05\n",
      "  2.21000000e+02 9.09434300e+01]\n",
      " [2.50000000e+01 5.00000000e+04 4.47000000e+02 ... 1.50000000e+05\n",
      "  8.90000000e+01 9.11352530e+01]\n",
      " [6.20000000e+01 1.78000000e+05 8.50000000e+02 ... 6.90990000e+04\n",
      "  1.10000000e+02 4.00000000e+01]\n",
      " ...\n",
      " [6.70000000e+01 9.60000000e+04 6.35000000e+02 ... 7.22390000e+04\n",
      "  2.12000000e+02 5.38193822e+01]\n",
      " [1.80000000e+01 4.40000000e+04 5.83000000e+02 ... 1.50000000e+05\n",
      "  4.10000000e+01 7.72286107e+01]\n",
      " [1.80000000e+01 3.40000000e+04 6.91000000e+02 ... 1.19315000e+05\n",
      "  1.58000000e+02 6.63299213e+01]]\n",
      "[ 77  43  90 ... 100  87 100]\n"
     ]
    }
   ],
   "source": [
    "X = df3.iloc[:, :-1].values\n",
    "y = df3.iloc[:, -1].values\n",
    "print(X)\n",
    "print(y)"
   ]
  },
  {
   "cell_type": "code",
   "execution_count": 7,
   "metadata": {},
   "outputs": [],
   "source": [
    "# Scale the features\n",
    "scaler = StandardScaler()\n",
    "X = scaler.fit_transform(X)\n",
    "\n",
    "# Split the data into training and testing sets\n",
    "X_train, X_test, y_train, y_test = train_test_split(X, y, test_size=0.2, random_state=42)"
   ]
  },
  {
   "cell_type": "code",
   "execution_count": 8,
   "metadata": {},
   "outputs": [
    {
     "name": "stdout",
     "output_type": "stream",
     "text": [
      "Epoch 1/50\n"
     ]
    },
    {
     "ename": "ValueError",
     "evalue": "in user code:\n\n    File \"C:\\Users\\hency\\AppData\\Local\\Packages\\PythonSoftwareFoundation.Python.3.10_qbz5n2kfra8p0\\LocalCache\\local-packages\\Python310\\site-packages\\keras\\src\\engine\\training.py\", line 1338, in train_function  *\n        return step_function(self, iterator)\n    File \"C:\\Users\\hency\\AppData\\Local\\Packages\\PythonSoftwareFoundation.Python.3.10_qbz5n2kfra8p0\\LocalCache\\local-packages\\Python310\\site-packages\\keras\\src\\engine\\training.py\", line 1322, in step_function  **\n        outputs = model.distribute_strategy.run(run_step, args=(data,))\n    File \"C:\\Users\\hency\\AppData\\Local\\Packages\\PythonSoftwareFoundation.Python.3.10_qbz5n2kfra8p0\\LocalCache\\local-packages\\Python310\\site-packages\\keras\\src\\engine\\training.py\", line 1303, in run_step  **\n        outputs = model.train_step(data)\n    File \"C:\\Users\\hency\\AppData\\Local\\Packages\\PythonSoftwareFoundation.Python.3.10_qbz5n2kfra8p0\\LocalCache\\local-packages\\Python310\\site-packages\\keras\\src\\engine\\training.py\", line 1080, in train_step\n        y_pred = self(x, training=True)\n    File \"C:\\Users\\hency\\AppData\\Local\\Packages\\PythonSoftwareFoundation.Python.3.10_qbz5n2kfra8p0\\LocalCache\\local-packages\\Python310\\site-packages\\keras\\src\\utils\\traceback_utils.py\", line 70, in error_handler\n        raise e.with_traceback(filtered_tb) from None\n    File \"C:\\Users\\hency\\AppData\\Local\\Packages\\PythonSoftwareFoundation.Python.3.10_qbz5n2kfra8p0\\LocalCache\\local-packages\\Python310\\site-packages\\keras\\src\\engine\\input_spec.py\", line 298, in assert_input_compatibility\n        raise ValueError(\n\n    ValueError: Input 0 of layer \"sequential\" is incompatible with the layer: expected shape=(None, 2), found shape=(None, 8)\n",
     "output_type": "error",
     "traceback": [
      "\u001b[1;31m---------------------------------------------------------------------------\u001b[0m",
      "\u001b[1;31mValueError\u001b[0m                                Traceback (most recent call last)",
      "Cell \u001b[1;32mIn[8], line 11\u001b[0m\n\u001b[0;32m      8\u001b[0m model\u001b[39m.\u001b[39mcompile(optimizer\u001b[39m=\u001b[39m\u001b[39m'\u001b[39m\u001b[39madam\u001b[39m\u001b[39m'\u001b[39m, loss\u001b[39m=\u001b[39m\u001b[39m'\u001b[39m\u001b[39mbinary_crossentropy\u001b[39m\u001b[39m'\u001b[39m, metrics\u001b[39m=\u001b[39m[\u001b[39m'\u001b[39m\u001b[39maccuracy\u001b[39m\u001b[39m'\u001b[39m])\n\u001b[0;32m     10\u001b[0m \u001b[39m# Train the model\u001b[39;00m\n\u001b[1;32m---> 11\u001b[0m history \u001b[39m=\u001b[39m model\u001b[39m.\u001b[39;49mfit(X_train, y_train, epochs\u001b[39m=\u001b[39;49m\u001b[39m50\u001b[39;49m, batch_size\u001b[39m=\u001b[39;49m\u001b[39m32\u001b[39;49m, validation_split\u001b[39m=\u001b[39;49m\u001b[39m0.1\u001b[39;49m)\n\u001b[0;32m     13\u001b[0m \u001b[39m# Evaluate the model\u001b[39;00m\n\u001b[0;32m     14\u001b[0m test_loss, test_accuracy \u001b[39m=\u001b[39m model\u001b[39m.\u001b[39mevaluate(X_test, y_test)\n",
      "File \u001b[1;32m~\\AppData\\Local\\Packages\\PythonSoftwareFoundation.Python.3.10_qbz5n2kfra8p0\\LocalCache\\local-packages\\Python310\\site-packages\\keras\\src\\utils\\traceback_utils.py:70\u001b[0m, in \u001b[0;36mfilter_traceback.<locals>.error_handler\u001b[1;34m(*args, **kwargs)\u001b[0m\n\u001b[0;32m     67\u001b[0m     filtered_tb \u001b[39m=\u001b[39m _process_traceback_frames(e\u001b[39m.\u001b[39m__traceback__)\n\u001b[0;32m     68\u001b[0m     \u001b[39m# To get the full stack trace, call:\u001b[39;00m\n\u001b[0;32m     69\u001b[0m     \u001b[39m# `tf.debugging.disable_traceback_filtering()`\u001b[39;00m\n\u001b[1;32m---> 70\u001b[0m     \u001b[39mraise\u001b[39;00m e\u001b[39m.\u001b[39mwith_traceback(filtered_tb) \u001b[39mfrom\u001b[39;00m \u001b[39mNone\u001b[39;00m\n\u001b[0;32m     71\u001b[0m \u001b[39mfinally\u001b[39;00m:\n\u001b[0;32m     72\u001b[0m     \u001b[39mdel\u001b[39;00m filtered_tb\n",
      "File \u001b[1;32m~\\AppData\\Local\\Temp\\__autograph_generated_fileokq0mmls.py:15\u001b[0m, in \u001b[0;36mouter_factory.<locals>.inner_factory.<locals>.tf__train_function\u001b[1;34m(iterator)\u001b[0m\n\u001b[0;32m     13\u001b[0m \u001b[39mtry\u001b[39;00m:\n\u001b[0;32m     14\u001b[0m     do_return \u001b[39m=\u001b[39m \u001b[39mTrue\u001b[39;00m\n\u001b[1;32m---> 15\u001b[0m     retval_ \u001b[39m=\u001b[39m ag__\u001b[39m.\u001b[39mconverted_call(ag__\u001b[39m.\u001b[39mld(step_function), (ag__\u001b[39m.\u001b[39mld(\u001b[39mself\u001b[39m), ag__\u001b[39m.\u001b[39mld(iterator)), \u001b[39mNone\u001b[39;00m, fscope)\n\u001b[0;32m     16\u001b[0m \u001b[39mexcept\u001b[39;00m:\n\u001b[0;32m     17\u001b[0m     do_return \u001b[39m=\u001b[39m \u001b[39mFalse\u001b[39;00m\n",
      "\u001b[1;31mValueError\u001b[0m: in user code:\n\n    File \"C:\\Users\\hency\\AppData\\Local\\Packages\\PythonSoftwareFoundation.Python.3.10_qbz5n2kfra8p0\\LocalCache\\local-packages\\Python310\\site-packages\\keras\\src\\engine\\training.py\", line 1338, in train_function  *\n        return step_function(self, iterator)\n    File \"C:\\Users\\hency\\AppData\\Local\\Packages\\PythonSoftwareFoundation.Python.3.10_qbz5n2kfra8p0\\LocalCache\\local-packages\\Python310\\site-packages\\keras\\src\\engine\\training.py\", line 1322, in step_function  **\n        outputs = model.distribute_strategy.run(run_step, args=(data,))\n    File \"C:\\Users\\hency\\AppData\\Local\\Packages\\PythonSoftwareFoundation.Python.3.10_qbz5n2kfra8p0\\LocalCache\\local-packages\\Python310\\site-packages\\keras\\src\\engine\\training.py\", line 1303, in run_step  **\n        outputs = model.train_step(data)\n    File \"C:\\Users\\hency\\AppData\\Local\\Packages\\PythonSoftwareFoundation.Python.3.10_qbz5n2kfra8p0\\LocalCache\\local-packages\\Python310\\site-packages\\keras\\src\\engine\\training.py\", line 1080, in train_step\n        y_pred = self(x, training=True)\n    File \"C:\\Users\\hency\\AppData\\Local\\Packages\\PythonSoftwareFoundation.Python.3.10_qbz5n2kfra8p0\\LocalCache\\local-packages\\Python310\\site-packages\\keras\\src\\utils\\traceback_utils.py\", line 70, in error_handler\n        raise e.with_traceback(filtered_tb) from None\n    File \"C:\\Users\\hency\\AppData\\Local\\Packages\\PythonSoftwareFoundation.Python.3.10_qbz5n2kfra8p0\\LocalCache\\local-packages\\Python310\\site-packages\\keras\\src\\engine\\input_spec.py\", line 298, in assert_input_compatibility\n        raise ValueError(\n\n    ValueError: Input 0 of layer \"sequential\" is incompatible with the layer: expected shape=(None, 2), found shape=(None, 8)\n"
     ]
    },
    {
     "ename": "",
     "evalue": "",
     "output_type": "error",
     "traceback": [
      "\u001b[1;31mThe Kernel crashed while executing code in the the current cell or a previous cell. Please review the code in the cell(s) to identify a possible cause of the failure. Click <a href='https://aka.ms/vscodeJupyterKernelCrash'>here</a> for more info. View Jupyter <a href='command:jupyter.viewOutput'>log</a> for further details."
     ]
    }
   ],
   "source": [
    "# Build the neural network model\n",
    "model = keras.Sequential([\n",
    "    keras.layers.Dense(units=4, activation='relu', input_dim=2),\n",
    "    keras.layers.Dense(units=1, activation='sigmoid')\n",
    "])\n",
    "\n",
    "# Compile the model\n",
    "model.compile(optimizer='adam', loss='binary_crossentropy', metrics=['accuracy'])\n",
    "\n",
    "# Train the model\n",
    "history = model.fit(X_train, y_train, epochs=50, batch_size=32, validation_split=0.1)\n",
    "\n",
    "# Evaluate the model\n",
    "test_loss, test_accuracy = model.evaluate(X_test, y_test)\n",
    "print(f'Test Accuracy: {test_accuracy:.4f}')"
   ]
  }
 ],
 "metadata": {
  "kernelspec": {
   "display_name": "Python 3",
   "language": "python",
   "name": "python3"
  },
  "language_info": {
   "codemirror_mode": {
    "name": "ipython",
    "version": 3
   },
   "file_extension": ".py",
   "mimetype": "text/x-python",
   "name": "python",
   "nbconvert_exporter": "python",
   "pygments_lexer": "ipython3",
   "version": "3.10.11"
  },
  "orig_nbformat": 4
 },
 "nbformat": 4,
 "nbformat_minor": 2
}
