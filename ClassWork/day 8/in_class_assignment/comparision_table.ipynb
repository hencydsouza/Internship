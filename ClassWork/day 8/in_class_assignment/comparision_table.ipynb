{
 "cells": [
  {
   "cell_type": "code",
   "execution_count": 3,
   "metadata": {},
   "outputs": [
    {
     "name": "stdout",
     "output_type": "stream",
     "text": [
      "                      Model  R-squared         MSE\n",
      "0  Simple Linear Regression  51.595111   84.078815\n",
      "1    Multilinear Regression  57.117911   74.485765\n",
      "2   Decision Tree Regressor  33.355191  115.761375\n"
     ]
    }
   ],
   "source": [
    "import pandas as pd\n",
    "import numpy as np\n",
    "from sklearn import linear_model\n",
    "from sklearn.tree import DecisionTreeRegressor\n",
    "from sklearn.model_selection import train_test_split\n",
    "from sklearn.metrics import r2_score, mean_squared_error\n",
    "\n",
    "# Load the data\n",
    "data = pd.read_csv('Real estate - Real estate.csv')\n",
    "\n",
    "# Drop unnecessary columns and remove rows with missing values\n",
    "df = data.drop([\"No\", \"X1 transaction date\", \"X5 latitude\", \"X6 longitude\"], axis=1).dropna()\n",
    "\n",
    "# Remove duplicate rows\n",
    "df = df.drop_duplicates()\n",
    "\n",
    "# Split the data into input features (X) and target variable (Y)\n",
    "X_linear = df[['X3 distance to the nearest MRT station']]\n",
    "X_multilinear = df[['X3 distance to the nearest MRT station', 'X4 number of convenience stores']]\n",
    "X_tree = df[['X3 distance to the nearest MRT station']]\n",
    "Y = df['Y house price of unit area']\n",
    "\n",
    "# Split the data into training and testing sets\n",
    "X_linear_train, X_linear_test, Y_train, Y_test = train_test_split(X_linear, Y, test_size=0.2, random_state=0)\n",
    "X_multilinear_train, X_multilinear_test, _, _ = train_test_split(X_multilinear, Y, test_size=0.2, random_state=0)\n",
    "X_tree_train, X_tree_test, _, _ = train_test_split(X_tree, Y, test_size=0.2, random_state=0)\n",
    "\n",
    "# Create and fit the Linear Regression model\n",
    "regr_linear = linear_model.LinearRegression()\n",
    "regr_linear.fit(X_linear_train, Y_train)\n",
    "\n",
    "# Make predictions using Linear Regression\n",
    "y_pred_linear = regr_linear.predict(X_linear_test)\n",
    "\n",
    "# Calculate R-squared and MSE for Linear Regression\n",
    "r2_linear = r2_score(Y_test, y_pred_linear)\n",
    "mse_linear = mean_squared_error(Y_test, y_pred_linear)\n",
    "\n",
    "# Create and fit the Multilinear Regression model\n",
    "regr_multilinear = linear_model.LinearRegression()\n",
    "regr_multilinear.fit(X_multilinear_train, Y_train)\n",
    "\n",
    "# Make predictions using Multilinear Regression\n",
    "y_pred_multilinear = regr_multilinear.predict(X_multilinear_test)\n",
    "\n",
    "# Calculate R-squared and MSE for Multilinear Regression\n",
    "r2_multilinear = r2_score(Y_test, y_pred_multilinear)\n",
    "mse_multilinear = mean_squared_error(Y_test, y_pred_multilinear)\n",
    "\n",
    "# Create and fit the Decision Tree Regressor model\n",
    "regressor_tree = DecisionTreeRegressor(random_state=0)\n",
    "regressor_tree.fit(X_tree_train, Y_train)\n",
    "\n",
    "# Make predictions using Decision Tree Regressor\n",
    "y_pred_tree = regressor_tree.predict(X_tree_test)\n",
    "\n",
    "# Calculate R-squared and MSE for Decision Tree Regressor\n",
    "r2_tree = r2_score(Y_test, y_pred_tree)\n",
    "mse_tree = mean_squared_error(Y_test, y_pred_tree)\n",
    "\n",
    "# Create an accuracy table\n",
    "accuracy_table = pd.DataFrame({\n",
    "    'Model': ['Simple Linear Regression', 'Multilinear Regression', 'Decision Tree Regressor'],\n",
    "    'R-squared': [r2_linear*100, r2_multilinear*100, r2_tree*100],\n",
    "    'MSE': [mse_linear, mse_multilinear, mse_tree]\n",
    "})\n",
    "\n",
    "print(accuracy_table)"
   ]
  }
 ],
 "metadata": {
  "kernelspec": {
   "display_name": "Python 3",
   "language": "python",
   "name": "python3"
  },
  "language_info": {
   "codemirror_mode": {
    "name": "ipython",
    "version": 3
   },
   "file_extension": ".py",
   "mimetype": "text/x-python",
   "name": "python",
   "nbconvert_exporter": "python",
   "pygments_lexer": "ipython3",
   "version": "3.10.11"
  },
  "orig_nbformat": 4
 },
 "nbformat": 4,
 "nbformat_minor": 2
}
