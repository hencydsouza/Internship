{
 "cells": [
  {
   "cell_type": "code",
   "execution_count": 1,
   "metadata": {},
   "outputs": [],
   "source": [
    "import pandas as pd \n",
    "from sklearn.model_selection import train_test_split\n",
    "from sklearn import tree"
   ]
  },
  {
   "cell_type": "code",
   "execution_count": 2,
   "metadata": {},
   "outputs": [
    {
     "name": "stdout",
     "output_type": "stream",
     "text": [
      "<class 'pandas.core.frame.DataFrame'>\n",
      "RangeIndex: 317 entries, 0 to 316\n",
      "Data columns (total 3 columns):\n",
      " #   Column      Non-Null Count  Dtype \n",
      "---  ------      --------------  ----- \n",
      " 0   Category_1  317 non-null    object\n",
      " 1   Category_2  317 non-null    object\n",
      " 2   Category_3  317 non-null    object\n",
      "dtypes: object(3)\n",
      "memory usage: 7.6+ KB\n"
     ]
    },
    {
     "data": {
      "text/plain": [
       "Category_1    0\n",
       "Category_2    0\n",
       "Category_3    0\n",
       "dtype: int64"
      ]
     },
     "execution_count": 2,
     "metadata": {},
     "output_type": "execute_result"
    }
   ],
   "source": [
    "df = pd.read_excel(r'flipkart_categories.xlsx')\n",
    "df.info()\n",
    "df.isnull().sum()"
   ]
  },
  {
   "cell_type": "code",
   "execution_count": 3,
   "metadata": {},
   "outputs": [],
   "source": [
    "from sklearn.preprocessing import LabelEncoder\n",
    "Le = LabelEncoder()\n",
    "df['Category_1'] = Le.fit_transform(df['Category_1'])\n",
    "df\n",
    "df['Category_2'] = Le.fit_transform(df['Category_2'])\n",
    "df['Category_3'] = Le.fit_transform(df['Category_3'])\n",
    "x = df.drop(['Category_1'],axis=1)\n",
    "y= df['Category_1']"
   ]
  },
  {
   "cell_type": "code",
   "execution_count": 5,
   "metadata": {},
   "outputs": [
    {
     "name": "stdout",
     "output_type": "stream",
     "text": [
      "     Category_2  Category_3\n",
      "257           3          10\n",
      "183          74         293\n",
      "[0 3]\n"
     ]
    }
   ],
   "source": [
    "#print(x,y)\n",
    "X_train,X_test,y_train,y_test = train_test_split(x,y,random_state=20,test_size=0.2)\n",
    "\n",
    "rf =tree.DecisionTreeClassifier(criterion = 'entropy')\n",
    "dt = rf .fit(X_train, y_train)\n",
    "print(X_test[1:2])\n",
    "y_pred = dt.predict(X_test[1:2])\n",
    "print(y_pred)"
   ]
  }
 ],
 "metadata": {
  "kernelspec": {
   "display_name": "Python 3",
   "language": "python",
   "name": "python3"
  },
  "language_info": {
   "codemirror_mode": {
    "name": "ipython",
    "version": 3
   },
   "file_extension": ".py",
   "mimetype": "text/x-python",
   "name": "python",
   "nbconvert_exporter": "python",
   "pygments_lexer": "ipython3",
   "version": "3.10.11"
  },
  "orig_nbformat": 4
 },
 "nbformat": 4,
 "nbformat_minor": 2
}
