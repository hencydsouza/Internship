{
 "cells": [
  {
   "cell_type": "code",
   "execution_count": 2,
   "metadata": {},
   "outputs": [],
   "source": [
    "import numpy as np\n",
    "from sklearn.datasets import make_classification\n",
    "\n",
    "# Generate synthetic data\n",
    "X, y = make_classification(n_samples=1000, n_features=2, n_informative=2, n_redundant=0, random_state=42)"
   ]
  },
  {
   "cell_type": "code",
   "execution_count": 2,
   "metadata": {},
   "outputs": [],
   "source": [
    "from sklearn.model_selection import train_test_split\n",
    "from sklearn.preprocessing import StandardScaler\n",
    "\n",
    "# Scale the features\n",
    "scaler = StandardScaler()\n",
    "X = scaler.fit_transform(X)\n",
    "\n",
    "# Split the data into training and testing sets\n",
    "X_train, X_test, y_train, y_test = train_test_split(X, y, test_size=0.2, random_state=42)\n"
   ]
  },
  {
   "cell_type": "code",
   "execution_count": 3,
   "metadata": {},
   "outputs": [],
   "source": [
    "import tensorflow as tf\n",
    "from tensorflow import keras\n",
    "\n",
    "model = keras.Sequential([\n",
    "    keras.layers.Dense(units=4, activation='relu', input_dim=2),\n",
    "    keras.layers.Dense(units=1, activation='sigmoid')\n",
    "])"
   ]
  },
  {
   "cell_type": "code",
   "execution_count": 4,
   "metadata": {},
   "outputs": [],
   "source": [
    "model.compile(optimizer='adam', loss='binary_crossentropy', metrics=['accuracy'])\n"
   ]
  },
  {
   "cell_type": "code",
   "execution_count": 5,
   "metadata": {},
   "outputs": [
    {
     "name": "stdout",
     "output_type": "stream",
     "text": [
      "Epoch 1/50\n",
      "23/23 [==============================] - 2s 16ms/step - loss: 0.6426 - accuracy: 0.7278 - val_loss: 0.6698 - val_accuracy: 0.6375\n",
      "Epoch 2/50\n",
      "23/23 [==============================] - 0s 4ms/step - loss: 0.6350 - accuracy: 0.8097 - val_loss: 0.6640 - val_accuracy: 0.6500\n",
      "Epoch 3/50\n",
      "23/23 [==============================] - 0s 5ms/step - loss: 0.6275 - accuracy: 0.8194 - val_loss: 0.6583 - val_accuracy: 0.6500\n",
      "Epoch 4/50\n",
      "23/23 [==============================] - 0s 4ms/step - loss: 0.6198 - accuracy: 0.8250 - val_loss: 0.6525 - val_accuracy: 0.6500\n",
      "Epoch 5/50\n",
      "23/23 [==============================] - 0s 4ms/step - loss: 0.6115 - accuracy: 0.8222 - val_loss: 0.6456 - val_accuracy: 0.6625\n",
      "Epoch 6/50\n",
      "23/23 [==============================] - 0s 5ms/step - loss: 0.6027 - accuracy: 0.8236 - val_loss: 0.6386 - val_accuracy: 0.6625\n",
      "Epoch 7/50\n",
      "23/23 [==============================] - 0s 5ms/step - loss: 0.5931 - accuracy: 0.8264 - val_loss: 0.6312 - val_accuracy: 0.6500\n",
      "Epoch 8/50\n",
      "23/23 [==============================] - 0s 5ms/step - loss: 0.5832 - accuracy: 0.8292 - val_loss: 0.6238 - val_accuracy: 0.6500\n",
      "Epoch 9/50\n",
      "23/23 [==============================] - 0s 5ms/step - loss: 0.5732 - accuracy: 0.8347 - val_loss: 0.6165 - val_accuracy: 0.6500\n",
      "Epoch 10/50\n",
      "23/23 [==============================] - 0s 5ms/step - loss: 0.5632 - accuracy: 0.8347 - val_loss: 0.6088 - val_accuracy: 0.6500\n",
      "Epoch 11/50\n",
      "23/23 [==============================] - 0s 5ms/step - loss: 0.5533 - accuracy: 0.8375 - val_loss: 0.6018 - val_accuracy: 0.6500\n",
      "Epoch 12/50\n",
      "23/23 [==============================] - 0s 5ms/step - loss: 0.5436 - accuracy: 0.8444 - val_loss: 0.5953 - val_accuracy: 0.6500\n",
      "Epoch 13/50\n",
      "23/23 [==============================] - 0s 5ms/step - loss: 0.5341 - accuracy: 0.8500 - val_loss: 0.5883 - val_accuracy: 0.6625\n",
      "Epoch 14/50\n",
      "23/23 [==============================] - 0s 5ms/step - loss: 0.5252 - accuracy: 0.8500 - val_loss: 0.5825 - val_accuracy: 0.6625\n",
      "Epoch 15/50\n",
      "23/23 [==============================] - 0s 5ms/step - loss: 0.5166 - accuracy: 0.8500 - val_loss: 0.5771 - val_accuracy: 0.6625\n",
      "Epoch 16/50\n",
      "23/23 [==============================] - 0s 5ms/step - loss: 0.5087 - accuracy: 0.8514 - val_loss: 0.5717 - val_accuracy: 0.6875\n",
      "Epoch 17/50\n",
      "23/23 [==============================] - 0s 5ms/step - loss: 0.5009 - accuracy: 0.8556 - val_loss: 0.5663 - val_accuracy: 0.7125\n",
      "Epoch 18/50\n",
      "23/23 [==============================] - 0s 5ms/step - loss: 0.4938 - accuracy: 0.8542 - val_loss: 0.5609 - val_accuracy: 0.7125\n",
      "Epoch 19/50\n",
      "23/23 [==============================] - 0s 5ms/step - loss: 0.4871 - accuracy: 0.8556 - val_loss: 0.5562 - val_accuracy: 0.7125\n",
      "Epoch 20/50\n",
      "23/23 [==============================] - 0s 5ms/step - loss: 0.4808 - accuracy: 0.8528 - val_loss: 0.5519 - val_accuracy: 0.7125\n",
      "Epoch 21/50\n",
      "23/23 [==============================] - 0s 5ms/step - loss: 0.4748 - accuracy: 0.8528 - val_loss: 0.5482 - val_accuracy: 0.7125\n",
      "Epoch 22/50\n",
      "23/23 [==============================] - 0s 5ms/step - loss: 0.4691 - accuracy: 0.8569 - val_loss: 0.5434 - val_accuracy: 0.7250\n",
      "Epoch 23/50\n",
      "23/23 [==============================] - 0s 4ms/step - loss: 0.4638 - accuracy: 0.8597 - val_loss: 0.5402 - val_accuracy: 0.7250\n",
      "Epoch 24/50\n",
      "23/23 [==============================] - 0s 5ms/step - loss: 0.4586 - accuracy: 0.8653 - val_loss: 0.5364 - val_accuracy: 0.7250\n",
      "Epoch 25/50\n",
      "23/23 [==============================] - 0s 4ms/step - loss: 0.4540 - accuracy: 0.8667 - val_loss: 0.5336 - val_accuracy: 0.7250\n",
      "Epoch 26/50\n",
      "23/23 [==============================] - 0s 4ms/step - loss: 0.4495 - accuracy: 0.8667 - val_loss: 0.5292 - val_accuracy: 0.7250\n",
      "Epoch 27/50\n",
      "23/23 [==============================] - 0s 4ms/step - loss: 0.4454 - accuracy: 0.8681 - val_loss: 0.5266 - val_accuracy: 0.7250\n",
      "Epoch 28/50\n",
      "23/23 [==============================] - 0s 4ms/step - loss: 0.4414 - accuracy: 0.8708 - val_loss: 0.5233 - val_accuracy: 0.7500\n",
      "Epoch 29/50\n",
      "23/23 [==============================] - 0s 4ms/step - loss: 0.4378 - accuracy: 0.8722 - val_loss: 0.5216 - val_accuracy: 0.7500\n",
      "Epoch 30/50\n",
      "23/23 [==============================] - 0s 5ms/step - loss: 0.4341 - accuracy: 0.8750 - val_loss: 0.5182 - val_accuracy: 0.7500\n",
      "Epoch 31/50\n",
      "23/23 [==============================] - 0s 4ms/step - loss: 0.4309 - accuracy: 0.8708 - val_loss: 0.5149 - val_accuracy: 0.7500\n",
      "Epoch 32/50\n",
      "23/23 [==============================] - 0s 6ms/step - loss: 0.4277 - accuracy: 0.8708 - val_loss: 0.5137 - val_accuracy: 0.7500\n",
      "Epoch 33/50\n",
      "23/23 [==============================] - 0s 5ms/step - loss: 0.4247 - accuracy: 0.8722 - val_loss: 0.5107 - val_accuracy: 0.7500\n",
      "Epoch 34/50\n",
      "23/23 [==============================] - 0s 4ms/step - loss: 0.4217 - accuracy: 0.8736 - val_loss: 0.5097 - val_accuracy: 0.7500\n",
      "Epoch 35/50\n",
      "23/23 [==============================] - 0s 4ms/step - loss: 0.4189 - accuracy: 0.8736 - val_loss: 0.5072 - val_accuracy: 0.7500\n",
      "Epoch 36/50\n",
      "23/23 [==============================] - 0s 4ms/step - loss: 0.4163 - accuracy: 0.8694 - val_loss: 0.5054 - val_accuracy: 0.7625\n",
      "Epoch 37/50\n",
      "23/23 [==============================] - 0s 4ms/step - loss: 0.4138 - accuracy: 0.8694 - val_loss: 0.5021 - val_accuracy: 0.7625\n",
      "Epoch 38/50\n",
      "23/23 [==============================] - 0s 5ms/step - loss: 0.4113 - accuracy: 0.8708 - val_loss: 0.5000 - val_accuracy: 0.7625\n",
      "Epoch 39/50\n",
      "23/23 [==============================] - 0s 4ms/step - loss: 0.4090 - accuracy: 0.8708 - val_loss: 0.4995 - val_accuracy: 0.7625\n",
      "Epoch 40/50\n",
      "23/23 [==============================] - 0s 4ms/step - loss: 0.4068 - accuracy: 0.8708 - val_loss: 0.4981 - val_accuracy: 0.7625\n",
      "Epoch 41/50\n",
      "23/23 [==============================] - 0s 4ms/step - loss: 0.4046 - accuracy: 0.8722 - val_loss: 0.4958 - val_accuracy: 0.7750\n",
      "Epoch 42/50\n",
      "23/23 [==============================] - 0s 4ms/step - loss: 0.4026 - accuracy: 0.8736 - val_loss: 0.4951 - val_accuracy: 0.7750\n",
      "Epoch 43/50\n",
      "23/23 [==============================] - 0s 4ms/step - loss: 0.4006 - accuracy: 0.8722 - val_loss: 0.4941 - val_accuracy: 0.7750\n",
      "Epoch 44/50\n",
      "23/23 [==============================] - 0s 5ms/step - loss: 0.3987 - accuracy: 0.8694 - val_loss: 0.4925 - val_accuracy: 0.7750\n",
      "Epoch 45/50\n",
      "23/23 [==============================] - 0s 5ms/step - loss: 0.3968 - accuracy: 0.8667 - val_loss: 0.4917 - val_accuracy: 0.7750\n",
      "Epoch 46/50\n",
      "23/23 [==============================] - 0s 5ms/step - loss: 0.3951 - accuracy: 0.8681 - val_loss: 0.4917 - val_accuracy: 0.7750\n",
      "Epoch 47/50\n",
      "23/23 [==============================] - 0s 4ms/step - loss: 0.3934 - accuracy: 0.8694 - val_loss: 0.4914 - val_accuracy: 0.7750\n",
      "Epoch 48/50\n",
      "23/23 [==============================] - 0s 5ms/step - loss: 0.3917 - accuracy: 0.8653 - val_loss: 0.4893 - val_accuracy: 0.7750\n",
      "Epoch 49/50\n",
      "23/23 [==============================] - 0s 4ms/step - loss: 0.3902 - accuracy: 0.8653 - val_loss: 0.4881 - val_accuracy: 0.7750\n",
      "Epoch 50/50\n",
      "23/23 [==============================] - 0s 4ms/step - loss: 0.3887 - accuracy: 0.8653 - val_loss: 0.4866 - val_accuracy: 0.7750\n"
     ]
    }
   ],
   "source": [
    "history = model.fit(X_train, y_train, epochs=50, batch_size=32, validation_split=0.1)\n"
   ]
  },
  {
   "cell_type": "code",
   "execution_count": 6,
   "metadata": {},
   "outputs": [
    {
     "name": "stdout",
     "output_type": "stream",
     "text": [
      "7/7 [==============================] - 0s 5ms/step - loss: 0.3544 - accuracy: 0.8750\n",
      "Test Accuracy: 0.8750\n"
     ]
    }
   ],
   "source": [
    "test_loss, test_accuracy = model.evaluate(X_test, y_test)\n",
    "print(f'Test Accuracy: {test_accuracy:.4f}')\n"
   ]
  }
 ],
 "metadata": {
  "kernelspec": {
   "display_name": "Python 3",
   "language": "python",
   "name": "python3"
  },
  "language_info": {
   "codemirror_mode": {
    "name": "ipython",
    "version": 3
   },
   "file_extension": ".py",
   "mimetype": "text/x-python",
   "name": "python",
   "nbconvert_exporter": "python",
   "pygments_lexer": "ipython3",
   "version": "3.10.11"
  },
  "orig_nbformat": 4
 },
 "nbformat": 4,
 "nbformat_minor": 2
}
