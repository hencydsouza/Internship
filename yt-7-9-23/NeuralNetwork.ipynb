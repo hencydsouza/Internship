{
 "cells": [
  {
   "cell_type": "code",
   "execution_count": 20,
   "metadata": {},
   "outputs": [],
   "source": [
    "import numpy as np"
   ]
  },
  {
   "cell_type": "code",
   "execution_count": 21,
   "metadata": {},
   "outputs": [
    {
     "data": {
      "text/plain": [
       "array([[0, 0],\n",
       "       [0, 1],\n",
       "       [1, 1],\n",
       "       [1, 0]])"
      ]
     },
     "execution_count": 21,
     "metadata": {},
     "output_type": "execute_result"
    }
   ],
   "source": [
    "# assign input values\n",
    "input_value = np.array([[0,0],[0,1],[1,1],[1,0]])\n",
    "input_value.shape\n",
    "input_value"
   ]
  },
  {
   "cell_type": "code",
   "execution_count": 22,
   "metadata": {},
   "outputs": [
    {
     "data": {
      "text/plain": [
       "(4, 1)"
      ]
     },
     "execution_count": 22,
     "metadata": {},
     "output_type": "execute_result"
    }
   ],
   "source": [
    "# assign output values\n",
    "output = np.array([0,1,1,0])\n",
    "output = output.reshape(4,1)\n",
    "output.shape"
   ]
  },
  {
   "cell_type": "code",
   "execution_count": 23,
   "metadata": {},
   "outputs": [
    {
     "data": {
      "text/plain": [
       "array([[0, 1],\n",
       "       [0, 2]])"
      ]
     },
     "execution_count": 23,
     "metadata": {},
     "output_type": "execute_result"
    }
   ],
   "source": [
    "# assign weights\n",
    "weights = np.array([[0,1],[0,2]])\n",
    "weights"
   ]
  },
  {
   "cell_type": "code",
   "execution_count": 24,
   "metadata": {},
   "outputs": [],
   "source": [
    "# add bias\n",
    "bias = 0.3"
   ]
  },
  {
   "cell_type": "code",
   "execution_count": 25,
   "metadata": {},
   "outputs": [],
   "source": [
    "# activation function\n",
    "def sigmoid_func(x):\n",
    "    return 1/(1+np.exp(-x))"
   ]
  },
  {
   "cell_type": "code",
   "execution_count": 26,
   "metadata": {},
   "outputs": [],
   "source": [
    "# derivative of sigmoid function\n",
    "def der(x):\n",
    "    return sigmoid_func(x) * (1-sigmoid_func(x))"
   ]
  },
  {
   "cell_type": "code",
   "execution_count": 27,
   "metadata": {},
   "outputs": [
    {
     "name": "stdout",
     "output_type": "stream",
     "text": [
      "[[-0.42137356 -0.39626666]\n",
      " [ 8.98554437  9.02992205]]\n",
      "[-4.19429251 -4.23156307]\n"
     ]
    }
   ],
   "source": [
    "for epochs in range(10000):\n",
    "    input_arr = input_value\n",
    "    \n",
    "    weighted_sum = np.dot(input_arr,weights)+bias\n",
    "    first_output = sigmoid_func(weighted_sum)\n",
    "    \n",
    "    error = first_output - output\n",
    "    total_error = np.square(np.subtract(first_output,output)).mean()\n",
    "    #print(total_error)\n",
    "    \n",
    "    first_der = error\n",
    "    second_der = der(first_output)\n",
    "    derivative = first_der * second_der\n",
    "    \n",
    "    t_input = input_value.T\n",
    "    final_derivative = np.dot(t_input,derivative)\n",
    "    \n",
    "    # update weights\n",
    "    weights = weights - 0.05 * final_derivative\n",
    "    \n",
    "    # update bias\n",
    "    for i in derivative:\n",
    "        bias = bias - 0.05 * i\n",
    "        \n",
    "print(weights)\n",
    "print(bias)"
   ]
  },
  {
   "cell_type": "code",
   "execution_count": 28,
   "metadata": {},
   "outputs": [
    {
     "name": "stdout",
     "output_type": "stream",
     "text": [
      "[0.9917663  0.99182413]\n"
     ]
    }
   ],
   "source": [
    "# prediction\n",
    "pred = np.array([0,1])\n",
    "\n",
    "result = np.dot(pred,weights) + bias\n",
    "\n",
    "res = sigmoid_func(result)\n",
    "\n",
    "print(res)"
   ]
  }
 ],
 "metadata": {
  "kernelspec": {
   "display_name": "Python 3",
   "language": "python",
   "name": "python3"
  },
  "language_info": {
   "codemirror_mode": {
    "name": "ipython",
    "version": 3
   },
   "file_extension": ".py",
   "mimetype": "text/x-python",
   "name": "python",
   "nbconvert_exporter": "python",
   "pygments_lexer": "ipython3",
   "version": "3.10.11"
  },
  "orig_nbformat": 4
 },
 "nbformat": 4,
 "nbformat_minor": 2
}
